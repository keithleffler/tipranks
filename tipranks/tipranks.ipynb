{
 "cells": [
  {
   "cell_type": "code",
   "id": "initial_id",
   "metadata": {
    "collapsed": true,
    "ExecuteTime": {
     "end_time": "2025-03-14T00:09:53.640335Z",
     "start_time": "2025-03-14T00:09:53.490857Z"
    }
   },
   "source": [
    "from base import TipRanks\n",
    "import boto3"
   ],
   "outputs": [],
   "execution_count": 12
  },
  {
   "metadata": {
    "ExecuteTime": {
     "end_time": "2025-03-14T00:09:55.847123Z",
     "start_time": "2025-03-14T00:09:55.169537Z"
    }
   },
   "cell_type": "code",
   "source": [
    "ssm_client = boto3.client('ssm')\n",
    "email = ssm_client.get_parameter(Name='/side-hustle/tipranks/email')['Parameter']['Value']\n",
    "password = ssm_client.get_parameter(Name='/side-hustle/tipranks/password', WithDecryption=True)['Parameter'][\n",
    "    'Value']"
   ],
   "id": "262dedba094bde7a",
   "outputs": [],
   "execution_count": 13
  },
  {
   "metadata": {
    "ExecuteTime": {
     "end_time": "2025-03-14T00:09:58.010265Z",
     "start_time": "2025-03-14T00:09:57.593525Z"
    }
   },
   "cell_type": "code",
   "source": "tipranks = TipRanks(email,password)",
   "id": "3d1b808378d2a78d",
   "outputs": [],
   "execution_count": 14
  },
  {
   "metadata": {
    "ExecuteTime": {
     "end_time": "2025-03-14T00:10:00.209928Z",
     "start_time": "2025-03-14T00:09:59.965304Z"
    }
   },
   "cell_type": "code",
   "source": "portfolio = tipranks.get_portfolio()",
   "id": "2a3b592e3221804d",
   "outputs": [],
   "execution_count": 15
  },
  {
   "metadata": {
    "ExecuteTime": {
     "end_time": "2025-03-14T00:10:04.593467Z",
     "start_time": "2025-03-14T00:10:01.652604Z"
    }
   },
   "cell_type": "code",
   "source": "topScoreStocks = tipranks.top_smart_score_stocks()\n",
   "id": "144a8355b720e956",
   "outputs": [],
   "execution_count": 16
  }
 ],
 "metadata": {
  "kernelspec": {
   "display_name": "Python 3",
   "language": "python",
   "name": "python3"
  },
  "language_info": {
   "codemirror_mode": {
    "name": "ipython",
    "version": 2
   },
   "file_extension": ".py",
   "mimetype": "text/x-python",
   "name": "python",
   "nbconvert_exporter": "python",
   "pygments_lexer": "ipython2",
   "version": "2.7.6"
  }
 },
 "nbformat": 4,
 "nbformat_minor": 5
}
