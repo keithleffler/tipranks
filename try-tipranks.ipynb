{
 "cells": [
  {
   "cell_type": "code",
   "id": "initial_id",
   "metadata": {
    "collapsed": true,
    "ExecuteTime": {
     "end_time": "2025-02-15T01:34:10.114897Z",
     "start_time": "2025-02-15T01:34:10.085462Z"
    }
   },
   "source": [
    "import boto3\n",
    "from tipranks.base import TipRanks"
   ],
   "outputs": [],
   "execution_count": 9
  },
  {
   "metadata": {
    "ExecuteTime": {
     "end_time": "2025-02-15T01:34:12.572716Z",
     "start_time": "2025-02-15T01:34:12.340323Z"
    }
   },
   "cell_type": "code",
   "source": [
    "ssm_client = boto3.client('ssm')\n",
    "email = ssm_client.get_parameter(Name = '/side-hustle/tipranks/email')['Parameter']['Value']\n",
    "password = ssm_client.get_parameter(Name = '/side-hustle/tipranks/password',WithDecryption=True)['Parameter']['Value']"
   ],
   "id": "cc4dce237c6c8b5d",
   "outputs": [],
   "execution_count": 10
  },
  {
   "metadata": {
    "ExecuteTime": {
     "end_time": "2025-02-15T01:34:31.049603Z",
     "start_time": "2025-02-15T01:34:30.635774Z"
    }
   },
   "cell_type": "code",
   "source": "client = TipRanks(email,password)",
   "id": "3c4b6ab91a423b7a",
   "outputs": [],
   "execution_count": 11
  },
  {
   "metadata": {
    "ExecuteTime": {
     "end_time": "2025-02-15T01:34:35.274431Z",
     "start_time": "2025-02-15T01:34:34.885136Z"
    }
   },
   "cell_type": "code",
   "source": "top_analyst_stocks = client.get_top_analyst_stocks()\n",
   "id": "6a864131ad4e44d8",
   "outputs": [],
   "execution_count": 12
  },
  {
   "metadata": {
    "ExecuteTime": {
     "end_time": "2025-02-15T01:34:39.138754Z",
     "start_time": "2025-02-15T01:34:38.851614Z"
    }
   },
   "cell_type": "code",
   "source": "news_spy = client.get_news_sentiment('TSLA')",
   "id": "11bf34749dce85ba",
   "outputs": [],
   "execution_count": 13
  },
  {
   "metadata": {
    "ExecuteTime": {
     "end_time": "2025-02-15T01:34:43.043658Z",
     "start_time": "2025-02-15T01:34:40.920449Z"
    }
   },
   "cell_type": "code",
   "source": "screener = client.get_stock_screener()",
   "id": "6d31c89860df79b8",
   "outputs": [],
   "execution_count": 14
  },
  {
   "metadata": {
    "ExecuteTime": {
     "end_time": "2025-02-15T01:34:59.105275Z",
     "start_time": "2025-02-15T01:34:58.183508Z"
    }
   },
   "cell_type": "code",
   "source": "gwh_proj = client.get_analyst_projection('f')",
   "id": "92df6bf673920c4",
   "outputs": [],
   "execution_count": 15
  },
  {
   "metadata": {
    "ExecuteTime": {
     "end_time": "2025-02-15T01:35:00.232041Z",
     "start_time": "2025-02-15T01:34:59.814573Z"
    }
   },
   "cell_type": "code",
   "source": "portfolio = client.get_portfolio()",
   "id": "be11e62224ebd913",
   "outputs": [],
   "execution_count": 16
  }
 ],
 "metadata": {
  "kernelspec": {
   "display_name": "Python 3",
   "language": "python",
   "name": "python3"
  },
  "language_info": {
   "codemirror_mode": {
    "name": "ipython",
    "version": 2
   },
   "file_extension": ".py",
   "mimetype": "text/x-python",
   "name": "python",
   "nbconvert_exporter": "python",
   "pygments_lexer": "ipython2",
   "version": "2.7.6"
  }
 },
 "nbformat": 4,
 "nbformat_minor": 5
}
